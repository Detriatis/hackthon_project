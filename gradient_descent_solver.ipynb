{
 "cells": [
  {
   "cell_type": "code",
   "execution_count": 8,
   "metadata": {},
   "outputs": [
    {
     "name": "stdout",
     "output_type": "stream",
     "text": [
      "Epoch 0, Loss: 4164105.75\n",
      "Epoch 500, Loss: 2929424.25\n",
      "Epoch 1000, Loss: 1995133.125\n",
      "Epoch 1500, Loss: 1305299.25\n",
      "Epoch 2000, Loss: 812597.125\n",
      "Epoch 2500, Loss: 475792.5625\n",
      "Epoch 3000, Loss: 258221.875\n",
      "Epoch 3500, Loss: 127498.65625\n",
      "Epoch 4000, Loss: 56037.51953125\n",
      "Epoch 4500, Loss: 21635.822265625\n",
      "\n",
      "Optimized Power Dispatch:\n",
      "P11: [27.921888 32.86877  30.196726]\n",
      "P12: [24.336533 21.285154 33.753845]\n",
      "P21: [27.621487 33.46659  30.404444]\n",
      "P22: [25.076979 21.579767 33.205254]\n",
      "U1:  [27.236044 33.212757 31.008867]\n",
      "U2:  [24.539438 20.731775 33.49969 ]\n"
     ]
    }
   ],
   "source": [
    "import torch\n",
    "import matplotlib.pyplot as plt\n",
    "\n",
    "# Define time steps\n",
    "T = 3  # Example 3 time periods\n",
    "device = (\n",
    "    torch.device(\"mps\") if torch.backends.mps.is_available() else torch.device(\"cpu\")\n",
    ")  # Use \"cuda\" if available\n",
    "\n",
    "# Initialize decision variables as trainable parameters\n",
    "P11 = torch.rand(T, requires_grad=True, device=device)\n",
    "P12 = torch.rand(T, requires_grad=True, device=device)\n",
    "P21 = torch.rand(T, requires_grad=True, device=device)\n",
    "P22 = torch.rand(T, requires_grad=True, device=device)\n",
    "U1 = torch.rand(T, requires_grad=True, device=device)\n",
    "U2 = torch.rand(T, requires_grad=True, device=device)\n",
    "\n",
    "# Constants (example values)\n",
    "P1T = torch.tensor([100, 120, 110], dtype=torch.float, device=device)\n",
    "P2T = torch.tensor([90, 80, 100], dtype=torch.float, device=device)\n",
    "PD1 = torch.tensor([80, 100, 90], dtype=torch.float, device=device)\n",
    "PD2 = torch.tensor([70, 60, 100], dtype=torch.float, device=device)\n",
    "\n",
    "L_d11, L_d12, L_d21, L_d22 = 0.95, 0.90, 0.92, 0.93  # Loss factors\n",
    "k1 = torch.tensor([1.0, 1.1, 1.2], dtype=torch.float, device=device)\n",
    "k2 = torch.tensor([1.3, 1.2, 1.0], dtype=torch.float, device=device)\n",
    "E1 = torch.tensor([10, 10, 10], dtype=torch.float, device=device)\n",
    "E2 = torch.tensor([10, 10, 10], dtype=torch.float, device=device)\n",
    "\n",
    "# Hyperparameters for constraint penalties\n",
    "λ_s = 100  # Supply penalty\n",
    "λ_d = 100  # Demand penalty\n",
    "λ_n = 100  # Non-negativity penalty\n",
    "\n",
    "# Define optimizer\n",
    "optimizer = torch.optim.Adam([P11, P12, P21, P22, U1, U2], lr=0.01)\n",
    "\n",
    "losses = []\n",
    "\n",
    "# Gradient Descent Loop\n",
    "for epoch in range(5000):\n",
    "    optimizer.zero_grad()\n",
    "\n",
    "    # Cost function\n",
    "    J = torch.sum(k1 * (P11 + P12) + k2 * (P21 + P22) + E1 * U1 + E2 * U2)\n",
    "\n",
    "    # Supply constraint penalties\n",
    "    L_supply = λ_s * torch.sum(\n",
    "        torch.relu(P11 + P12 - P1T) ** 2 + torch.relu(P21 + P22 - P2T) ** 2\n",
    "    )\n",
    "\n",
    "    # Demand constraint penalties\n",
    "    L_demand = λ_d * torch.sum(\n",
    "        (P11 * L_d11 + P21 * L_d21 + U1 - PD1) ** 2\n",
    "        + (P12 * L_d12 + P22 * L_d22 + U2 - PD2) ** 2\n",
    "    )\n",
    "\n",
    "    # Non-negativity penalty\n",
    "    L_neg = λ_n * torch.sum(\n",
    "        torch.relu(-P11) ** 2\n",
    "        + torch.relu(-P12) ** 2\n",
    "        + torch.relu(-P21) ** 2\n",
    "        + torch.relu(-P22) ** 2\n",
    "        + torch.relu(-U1) ** 2\n",
    "        + torch.relu(-U2) ** 2\n",
    "    )\n",
    "\n",
    "    # Total loss\n",
    "    L_total = J + L_supply + L_demand + L_neg\n",
    "    losses.append(L_total.item())\n",
    "    # Compute gradients and update\n",
    "    L_total.backward()\n",
    "    optimizer.step()\n",
    "\n",
    "    # Print every 500 iterations\n",
    "    if epoch % 500 == 0:\n",
    "        print(f\"Epoch {epoch}, Loss: {L_total.item()}\")\n",
    "\n",
    "# Print final results\n",
    "print(\"\\nOptimized Power Dispatch:\")\n",
    "print(f\"P11: {P11.detach().cpu().numpy()}\")\n",
    "print(f\"P12: {P12.detach().cpu().numpy()}\")\n",
    "print(f\"P21: {P21.detach().cpu().numpy()}\")\n",
    "print(f\"P22: {P22.detach().cpu().numpy()}\")\n",
    "print(f\"U1:  {U1.detach().cpu().numpy()}\")\n",
    "print(f\"U2:  {U2.detach().cpu().numpy()}\")"
   ]
  },
  {
   "cell_type": "code",
   "execution_count": 9,
   "metadata": {},
   "outputs": [
    {
     "data": {
      "text/plain": [
       "Text(0.5, 1.0, 'Loss vs Epoch')"
      ]
     },
     "execution_count": 9,
     "metadata": {},
     "output_type": "execute_result"
    },
    {
     "data": {
      "image/png": "[encoded data removed]",
      "text/plain": [
       "<Figure size 640x480 with 1 Axes>"
      ]
     },
     "metadata": {},
     "output_type": "display_data"
    }
   ],
   "source": [
    "plt.plot(losses, \".\")\n",
    "plt.xlabel(\"Epoch\")\n",
    "plt.ylabel(\"Loss\")\n",
    "plt.title(\"Loss vs Epoch\")"
   ]
  }
 ],
 "metadata": {
  "kernelspec": {
   "display_name": "base",
   "language": "python",
   "name": "python3"
  },
  "language_info": {
   "codemirror_mode": {
    "name": "ipython",
    "version": 3
   },
   "file_extension": ".py",
   "mimetype": "text/x-python",
   "name": "python",
   "nbconvert_exporter": "python",
   "pygments_lexer": "ipython3",
   "version": "3.10.13"
  }
 },
 "nbformat": 4,
 "nbformat_minor": 2
}
